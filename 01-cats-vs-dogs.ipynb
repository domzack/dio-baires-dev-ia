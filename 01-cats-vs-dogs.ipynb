{
 "cells": [
  {
   "cell_type": "markdown",
   "id": "672005c0",
   "metadata": {},
   "source": [
    "# Projeto de Transfer Learning com Cats vs Dogs\n",
    "\n",
    "Este notebook aplica o método de Transfer Learning utilizando o modelo MobileNetV2 para classificar imagens de gatos e cachorros. O dataset utilizado é o `cats_vs_dogs` disponível no TensorFlow Datasets e os dados baixados do link da Microsoft.\n",
    "\n",
    "## Objetivos\n",
    "- Utilizar Transfer Learning para classificar imagens em duas classes: gatos e cachorros.\n",
    "- Demonstrar o uso de pré-processamento de imagens e treinamento de redes neurais.\n",
    "- Visualizar os resultados do treinamento.\n",
    "\n",
    "## Links úteis\n",
    "- [Descrição do Dataset](https://www.tensorflow.org/datasets/catalog/cats_vs_dogs)\n",
    "- [Download do Dataset](https://www.microsoft.com/en-us/download/details.aspx?id=54765)\n",
    "- [Exemplo com MNIST](https://colab.research.google.com/github/kylemath/ml4a-guides/blob/master/notebooks/transfer-learning.ipynb)"
   ]
  },
  {
   "cell_type": "code",
   "execution_count": null,
   "id": "b40a2024",
   "metadata": {},
   "outputs": [],
   "source": [
    "# Importação de Bibliotecas\n",
    "import tensorflow as tf\n",
    "import tensorflow_datasets as tfds\n",
    "import matplotlib.pyplot as plt\n",
    "import numpy as np\n",
    "import os\n",
    "import glob\n",
    "from tensorflow.keras.utils import image_dataset_from_directory"
   ]
  },
  {
   "cell_type": "code",
   "execution_count": null,
   "id": "0a68beeb",
   "metadata": {},
   "outputs": [],
   "source": [
    "# Download do Dataset Cats vs Dogs (Microsoft)\n",
    "import zipfile\n",
    "import requests\n",
    "\n",
    "def download_and_extract_dataset(url, extract_to):\n",
    "    response = requests.get(url)\n",
    "    zip_path = os.path.join(extract_to, \"cats_vs_dogs.zip\")\n",
    "    with open(zip_path, \"wb\") as f:\n",
    "        f.write(response.content)\n",
    "    with zipfile.ZipFile(zip_path, \"r\") as zip_ref:\n",
    "        zip_ref.extractall(extract_to)\n",
    "    print(f\"Dataset extraído para {extract_to}\")\n",
    "\n",
    "# URL do dataset e diretório de extração\n",
    "dataset_url = \"https://www.microsoft.com/en-us/download/details.aspx?id=54765\"\n",
    "dataset_dir = \"./cats_vs_dogs_data\"\n",
    "os.makedirs(dataset_dir, exist_ok=True)\n",
    "download_and_extract_dataset(dataset_url, dataset_dir)"
   ]
  },
  {
   "cell_type": "code",
   "execution_count": null,
   "id": "2ef41423",
   "metadata": {},
   "outputs": [],
   "source": [
    "# Carregar e pré-processar imagens do diretório extraído\n",
    "def load_and_preprocess_custom_dataset(directory):\n",
    "    dataset = image_dataset_from_directory(\n",
    "        directory,\n",
    "        image_size=(224, 224),\n",
    "        batch_size=32\n",
    "    )\n",
    "    return dataset.map(lambda x, y: (x / 255.0, y))\n",
    "\n",
    "custom_dataset = load_and_preprocess_custom_dataset(dataset_dir)\n",
    "train_custom_ds = custom_dataset.take(int(len(custom_dataset) * 0.8))\n",
    "test_custom_ds = custom_dataset.skip(int(len(custom_dataset) * 0.8))"
   ]
  },
  {
   "cell_type": "code",
   "execution_count": null,
   "id": "5cd6ffca",
   "metadata": {},
   "outputs": [],
   "source": [
    "# Carregamento do Dataset (Cats vs Dogs)\n",
    "# Corrigir o carregamento do dataset para garantir que as divisões de treino e teste funcionem corretamente\n",
    "try:\n",
    "    (dataset_train, dataset_test), info = tfds.load(\n",
    "        'cats_vs_dogs',\n",
    "        split=['train[:80%]', 'train[80%:]'],\n",
    "        with_info=True,\n",
    "        as_supervised=True\n",
    "    )\n",
    "    print(\"Dataset carregado com sucesso!\")\n",
    "except Exception as e:\n",
    "    print(f\"Erro ao carregar o dataset: {e}\")"
   ]
  },
  {
   "cell_type": "code",
   "execution_count": null,
   "id": "6719b557",
   "metadata": {},
   "outputs": [],
   "source": [
    "# Pré-processamento das Imagens do TensorFlow Datasets\n",
    "# Garantir que o dataset seja pré-processado corretamente\n",
    "def preprocess(image, label):\n",
    "    image = tf.image.resize(image, [224, 224])\n",
    "    image = image / 255.0\n",
    "    return image, label\n",
    "\n",
    "try:\n",
    "    train_ds = dataset_train.map(preprocess).batch(32).prefetch(1)\n",
    "    test_ds  = dataset_test.map(preprocess).batch(32).prefetch(1)\n",
    "    print(\"Pré-processamento concluído com sucesso!\")\n",
    "except Exception as e:\n",
    "    print(f\"Erro no pré-processamento: {e}\")"
   ]
  },
  {
   "cell_type": "code",
   "execution_count": null,
   "id": "4e6ad330",
   "metadata": {},
   "outputs": [],
   "source": [
    "# Combinar os datasets (TensorFlow e Microsoft)\n",
    "train_combined_ds = train_ds.concatenate(train_custom_ds)\n",
    "test_combined_ds = test_ds.concatenate(test_custom_ds)"
   ]
  },
  {
   "cell_type": "code",
   "execution_count": null,
   "id": "fdcafafe",
   "metadata": {},
   "outputs": [],
   "source": [
    "# Modelo de Transfer Learning com MobileNetV2\n",
    "base_model = tf.keras.applications.MobileNetV2(\n",
    "    input_shape=(224, 224, 3),\n",
    "    include_top=False,\n",
    "    weights='imagenet'\n",
    ")\n",
    "base_model.trainable = False  # Congelar pesos\n",
    "\n",
    "model = tf.keras.Sequential([\n",
    "    base_model,\n",
    "    tf.keras.layers.GlobalAveragePooling2D(),\n",
    "    tf.keras.layers.Dense(1, activation='sigmoid')  # Classificação binária\n",
    "])"
   ]
  },
  {
   "cell_type": "code",
   "execution_count": null,
   "id": "95e81f76",
   "metadata": {},
   "outputs": [],
   "source": [
    "# Compilação do Modelo\n",
    "model.compile(optimizer='adam',\n",
    "              loss='binary_crossentropy',\n",
    "              metrics=['accuracy'])"
   ]
  },
  {
   "cell_type": "code",
   "execution_count": null,
   "id": "49bf7a39",
   "metadata": {},
   "outputs": [],
   "source": [
    "# Treinamento com o dataset combinado\n",
    "history = model.fit(train_combined_ds, validation_data=test_combined_ds, epochs=5)"
   ]
  },
  {
   "cell_type": "code",
   "execution_count": null,
   "id": "bacdeb69",
   "metadata": {},
   "outputs": [],
   "source": [
    "# Visualização dos Resultados\n",
    "plt.plot(history.history['accuracy'], label='Treino')\n",
    "plt.plot(history.history['val_accuracy'], label='Validação')\n",
    "plt.legend()\n",
    "plt.title(\"Acurácia por época\")\n",
    "plt.xlabel(\"Épocas\")\n",
    "plt.ylabel(\"Acurácia\")\n",
    "plt.grid(True)\n",
    "plt.show()"
   ]
  },
  {
   "cell_type": "code",
   "execution_count": null,
   "id": "a52a0daf",
   "metadata": {},
   "outputs": [],
   "source": [
    "# Testar o modelo com imagens externas\n",
    "def test_external_image(image_path):\n",
    "    image = tf.keras.preprocessing.image.load_img(image_path, target_size=(224, 224))\n",
    "    image_array = tf.keras.preprocessing.image.img_to_array(image) / 255.0\n",
    "    image_array = tf.expand_dims(image_array, axis=0)\n",
    "    prediction = model.predict(image_array)\n",
    "    class_name = \"Cachorro\" if prediction[0][0] > 0.5 else \"Gato\"\n",
    "    print(f\"Predição: {class_name} (Confiança: {prediction[0][0]:.2f})\")\n",
    "\n",
    "# Exemplo de teste com imagem externa\n",
    "test_external_image(\"path/to/your/image.jpg\")  # Substitua pelo caminho da imagem"
   ]
  }
 ],
 "metadata": {
  "language_info": {
   "name": "python"
  }
 },
 "nbformat": 4,
 "nbformat_minor": 5
}
